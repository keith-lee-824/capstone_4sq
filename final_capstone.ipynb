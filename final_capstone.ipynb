{
    "cells": [
        {
            "cell_type": "markdown",
            "metadata": {
                "collapsed": true
            },
            "source": "<h2>A description of the problem and a discussion of the background. </h2>"
        },
        {
            "cell_type": "markdown",
            "metadata": {},
            "source": "<h4>Background</h4>\n<p>In Japan, there are 2 major cities with many different kind of restaurant. We would like to investigate what is the different for these two cities. Sapporo is located in North, Kyoto is located in the middle of Japan.</p>\n<p>Based on this study, restaurant investor or commercial ads company can know more about the area and benefit to their business by leverage those insight from the study. For example, if we can see some kind of restaurant is popular in both cities, then it may be a great opportunities to open chain-restaurant in Japan.</p>"
        },
        {
            "cell_type": "markdown",
            "metadata": {},
            "source": "<h4>Problem</h4>\n<p>1. what is the most popular type of restaurant in the area (Kyoto and Sapporo)</p>\n<p>2. what is the relationship between restaurant type and price in the area (Kyoto and Sapporo</p>\n<p>3. what is the similarities and disimilarties between Kyoto and Sapporo</p>"
        },
        {
            "cell_type": "markdown",
            "metadata": {},
            "source": "<h2>A description of the data and how it will be used to solve the problem. </h2>"
        },
        {
            "cell_type": "markdown",
            "metadata": {},
            "source": "<p>Using Foursquare API can search restaurant type and price nearby. Those data can tell us what kind of restaurant popular in the area and see if there are competition. Also, we can see how much will people spend on the restaurant. Hence, we may see if there are any relation between price and type of restaurant.</p>"
        },
        {
            "cell_type": "markdown",
            "metadata": {},
            "source": "<p>'Food' is the filter and 'Kyoto Station'/'Sapporo Station' is the location to search in Foursquare. Those information will be passed through search query and set limit to 100 as there are too many restaurant nearby. Restaurant Name, Type and Price Level will be expected in JSON. We will work on Kyoto first then go for Sapporo.</p>\n<p>Extract JSON via Foursquare API, Transform using Jupyter Notebook in IBM CloudPak, then load into Dataframe.</p>"
        },
        {
            "cell_type": "code",
            "execution_count": null,
            "metadata": {},
            "outputs": [],
            "source": ""
        }
    ],
    "metadata": {
        "kernelspec": {
            "display_name": "Python 3.7",
            "language": "python",
            "name": "python3"
        },
        "language_info": {
            "codemirror_mode": {
                "name": "ipython",
                "version": 3
            },
            "file_extension": ".py",
            "mimetype": "text/x-python",
            "name": "python",
            "nbconvert_exporter": "python",
            "pygments_lexer": "ipython3",
            "version": "3.7.9"
        }
    },
    "nbformat": 4,
    "nbformat_minor": 1
}