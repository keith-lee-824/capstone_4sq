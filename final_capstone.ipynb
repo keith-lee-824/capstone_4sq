{
    "cells": [
        {
            "cell_type": "markdown",
            "metadata": {
                "collapsed": true
            },
            "source": "<h2>A description of the problem and a discussion of the background. </h2>"
        },
        {
            "cell_type": "markdown",
            "metadata": {},
            "source": "<h4>Background</h4>"
        },
        {
            "cell_type": "markdown",
            "metadata": {},
            "source": "<h4>Problem</h4>"
        },
        {
            "cell_type": "markdown",
            "metadata": {},
            "source": "<h2>A description of the data and how it will be used to solve the problem. </h2>"
        },
        {
            "cell_type": "code",
            "execution_count": null,
            "metadata": {},
            "outputs": [],
            "source": ""
        }
    ],
    "metadata": {
        "kernelspec": {
            "display_name": "Python 3.7",
            "language": "python",
            "name": "python3"
        },
        "language_info": {
            "codemirror_mode": {
                "name": "ipython",
                "version": 3
            },
            "file_extension": ".py",
            "mimetype": "text/x-python",
            "name": "python",
            "nbconvert_exporter": "python",
            "pygments_lexer": "ipython3",
            "version": "3.7.9"
        }
    },
    "nbformat": 4,
    "nbformat_minor": 1
}